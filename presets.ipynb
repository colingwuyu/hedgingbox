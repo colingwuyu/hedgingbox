{
  "nbformat": 4,
  "nbformat_minor": 0,
  "metadata": {
    "colab": {
      "name": "presets.ipynb",
      "private_outputs": true,
      "provenance": [],
      "collapsed_sections": [],
      "machine_shape": "hm",
      "authorship_tag": "ABX9TyMlDatA3cvh3Duv2zBMdJIj",
      "include_colab_link": true
    },
    "kernelspec": {
      "name": "python3",
      "display_name": "Python 3"
    },
    "language_info": {
      "name": "python"
    },
    "accelerator": "GPU"
  },
  "cells": [
    {
      "cell_type": "markdown",
      "metadata": {
        "id": "view-in-github",
        "colab_type": "text"
      },
      "source": [
        "<a href=\"https://colab.research.google.com/github/colingwuyu/hedgingbox/blob/multiagent/presets.ipynb\" target=\"_parent\"><img src=\"https://colab.research.google.com/assets/colab-badge.svg\" alt=\"Open In Colab\"/></a>"
      ]
    },
    {
      "cell_type": "code",
      "metadata": {
        "id": "bdFftvtXodWH"
      },
      "source": [
        "#@title Install necessary dependencies.\n",
        "!pip install dm-acme\n",
        "!pip install dm-acme[tf]\n",
        "!pip install dm-acme[reverb]\n",
        "!pip install QuantLib-Python\n",
        "!pip install tf_quant_finance"
      ],
      "execution_count": null,
      "outputs": []
    },
    {
      "cell_type": "code",
      "metadata": {
        "id": "r024T80fogPR"
      },
      "source": [
        "#@title Mount Google Drive\n",
        "from google.colab import drive\n",
        "drive.mount('/content/gdrive')"
      ],
      "execution_count": null,
      "outputs": []
    },
    {
      "cell_type": "code",
      "metadata": {
        "id": "xVn29cWBuNqs"
      },
      "source": [
        "!rm -rf /content/Projects/HedgingBox"
      ],
      "execution_count": null,
      "outputs": []
    },
    {
      "cell_type": "code",
      "metadata": {
        "id": "wHohkQYqpyBe"
      },
      "source": [
        "import os\n",
        "project_folder = '/content/Projects'\n",
        "hb_source = os.path.join(project_folder, 'HedgingBox')\n",
        "%mkdir \"$project_folder\"\n",
        "%cd \"$project_folder\"\n",
        "!pwd\n",
        "%cd HedgingBox\n",
        "import sys\n",
        "sys.path.append(hb_source)"
      ],
      "execution_count": null,
      "outputs": []
    },
    {
      "cell_type": "code",
      "metadata": {
        "id": "e5930yv5op7m"
      },
      "source": [
        "#@title Update HedgingBox\n",
        "import os\n",
        "project_folder = '/content/Projects'\n",
        "hb_source = os.path.join(project_folder, 'HedgingBox')\n",
        "%mkdir \"$project_folder\"\n",
        "%cd \"$project_folder\"\n",
        "!pwd\n",
        "!mkdir -p 'ACME Models/Multiagent'\n",
        "!git clone https://github.com/colingwuyu/HedgingBox.git\n",
        "%cd HedgingBox\n",
        "!git fetch --all\n",
        "!git checkout -b multiagent origin/multiagent\n",
        "!git pull\n",
        "import sys\n",
        "sys.path.append(hb_source)"
      ],
      "execution_count": null,
      "outputs": []
    },
    {
      "cell_type": "code",
      "metadata": {
        "id": "qUNDB5doBhC6"
      },
      "source": [
        "from hb.preset import Preset"
      ],
      "execution_count": null,
      "outputs": []
    },
    {
      "cell_type": "code",
      "metadata": {
        "id": "40K1zajSBkSU"
      },
      "source": [
        "preset = Preset.load_file(\"/content/gdrive/MyDrive/Projects/Presets/bsagent/single_agent.json\")\n",
        "preset.validation()"
      ],
      "execution_count": null,
      "outputs": []
    },
    {
      "cell_type": "code",
      "metadata": {
        "id": "dJXt5irVyne1"
      },
      "source": [
        "bs_mi_preset = Preset.load_file(\"/content/gdrive/MyDrive/Projects/Presets/bsagent/single_agent_mi.json\")\n",
        "bs_mi_preset.validation()"
      ],
      "execution_count": null,
      "outputs": []
    },
    {
      "cell_type": "code",
      "metadata": {
        "id": "F1mOZmQ3pQQf"
      },
      "source": [
        "rl_mi_preset = Preset.load_file(\"/content/gdrive/MyDrive/Projects/Presets/rlagent/single_agent_mi.json\")"
      ],
      "execution_count": null,
      "outputs": []
    },
    {
      "cell_type": "code",
      "metadata": {
        "id": "U8QRNMfNOnzR"
      },
      "source": [
        "rl_mi_preset.train(20)"
      ],
      "execution_count": null,
      "outputs": []
    },
    {
      "cell_type": "code",
      "metadata": {
        "id": "9Bz5hMbdpjYI"
      },
      "source": [
        "rl_mi_preset.validation()"
      ],
      "execution_count": null,
      "outputs": []
    },
    {
      "cell_type": "code",
      "metadata": {
        "id": "PmBxEeVixUI7"
      },
      "source": [
        "mi_2agents_preset = Preset.load_file(\"/content/gdrive/MyDrive/Projects/Presets/rl_bsm_agents/mi_2agents.json\")"
      ],
      "execution_count": null,
      "outputs": []
    },
    {
      "cell_type": "code",
      "metadata": {
        "id": "IF8wK0VgAlwg"
      },
      "source": [
        "mi_2agents_preset.validation()"
      ],
      "execution_count": null,
      "outputs": []
    },
    {
      "cell_type": "code",
      "metadata": {
        "id": "KZafRVQGDyiN"
      },
      "source": [
        ""
      ],
      "execution_count": null,
      "outputs": []
    }
  ]
}